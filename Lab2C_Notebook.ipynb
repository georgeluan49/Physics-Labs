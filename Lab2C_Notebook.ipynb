{
  "nbformat": 4,
  "nbformat_minor": 0,
  "metadata": {
    "colab": {
      "name": "Lab2C Notebook.ipynb",
      "provenance": [],
      "collapsed_sections": []
    },
    "kernelspec": {
      "name": "python3",
      "display_name": "Python 3"
    }
  },
  "cells": [
    {
      "cell_type": "markdown",
      "source": [
        "<center>\n",
        "<h1>Conservation of Momentum and Kinetic Energy</h1>\n",
        "George Luan\n",
        "04/2022 (updated 08/2022)\n",
        "\n",
        "Lab Mates: Anthony Baselious and Angela Wang\n",
        "</center>\n",
        "\n",
        "We actually collected a couple sets of data for elastic/inelastic collisions under different circumstances. I was in charge of analyzing the data for the elastic collision. [This picture](https://drive.google.com/file/d/1_jB7KiibdTmpttZ_WDErG5MMfRmL0QQW/view?usp=sharing) shows the basic setup."
      ],
      "metadata": {
        "id": "jNg3UM7_5ft4"
      }
    },
    {
      "cell_type": "markdown",
      "metadata": {
        "id": "t1p_7KZh4np7"
      },
      "source": [
        "Load in the required libraries."
      ]
    },
    {
      "cell_type": "code",
      "metadata": {
        "id": "IOtXS-ilzkPj"
      },
      "source": [
        "import numpy as np\n",
        "import matplotlib.pyplot as plt"
      ],
      "execution_count": 1,
      "outputs": []
    },
    {
      "cell_type": "code",
      "source": [
        "# Run this cell to mount your Google Drive.\n",
        "from google.colab import drive\n",
        "drive.mount('drive')"
      ],
      "metadata": {
        "id": "PHyBGacDq0K7",
        "outputId": "058d7128-25c5-482f-acc0-0549fdac3e32",
        "colab": {
          "base_uri": "https://localhost:8080/"
        }
      },
      "execution_count": 2,
      "outputs": [
        {
          "output_type": "stream",
          "name": "stdout",
          "text": [
            "Drive already mounted at drive; to attempt to forcibly remount, call drive.mount(\"drive\", force_remount=True).\n"
          ]
        }
      ]
    },
    {
      "cell_type": "markdown",
      "metadata": {
        "id": "6ne26Nvm5BiS"
      },
      "source": [
        "Load in the data files. We have two files, one for mass $m_1$ and the other for mass $m_2$. Load the files and use ; as the delimiter."
      ]
    },
    {
      "cell_type": "code",
      "metadata": {
        "id": "w13AuP9X0WER"
      },
      "source": [
        "read_in_array_m1 = np.loadtxt('/content/drive/MyDrive/Air Track Data/Copy_of_m1_elastic.txt',delimiter=';')\n",
        "\n",
        "read_in_array_m2 = np.loadtxt('/content/drive/MyDrive/Air Track Data/Copy_of_M2_Elastic_collisions.txt',delimiter=';')\n"
      ],
      "execution_count": 3,
      "outputs": []
    },
    {
      "cell_type": "markdown",
      "metadata": {
        "id": "bJQYAYd-5HxE"
      },
      "source": [
        "Extract the time and the position for both the files."
      ]
    },
    {
      "cell_type": "code",
      "metadata": {
        "id": "wvv49Xo60Z4c"
      },
      "source": [
        "time_m1 = read_in_array_m1[:,0]\n",
        "\n",
        "time_m2 = read_in_array_m2[:,0]\n",
        "\n",
        "position_m1 = read_in_array_m1[:,1]\n",
        "\n",
        "position_m2 = read_in_array_m2[:,1]\n"
      ],
      "execution_count": 4,
      "outputs": []
    },
    {
      "cell_type": "markdown",
      "source": [
        "I did not do this for the original assignment, but I think defining a WindowGenerator class will make the windowing process convenient."
      ],
      "metadata": {
        "id": "vJND_SD_lJnq"
      }
    },
    {
      "cell_type": "code",
      "source": [
        "class WindowGenerator:\n",
        "\n",
        "  def __init__(self, x, y, xlabel=\"\", ylabel=\"\", title=\"\"):\n",
        "      self.x = x\n",
        "      self.y = y\n",
        "      self.xlabel = xlabel\n",
        "      self.ylabel = ylabel\n",
        "      self.title = title\n",
        "\n",
        "  def plot_with_index(self):\n",
        "      \"\"\"\n",
        "      This creates a wholesale view of the target data to help us visually find the desired interval.\n",
        "      \"\"\"\n",
        "      plt.plot(self.y)\n",
        "      plt.xlabel(\"Index\")\n",
        "      plt.ylabel(self.ylabel)\n",
        "      plt.title(\"Wholesale Plot\")\n",
        "      plt.show()\n",
        "\n",
        "  def select_window(self, lower_index, upper_index):\n",
        "      \"\"\"\n",
        "      This function plots the data in the given interval and returns the x and y windows.\n",
        "      With slight modifications, we can also catter plot the data. \n",
        "      \"\"\"\n",
        "      # The indices for the time are going to be same as that of the position\n",
        "      x_window = self.x[lower_index:upper_index]\n",
        "      y_window = self.y[lower_index:upper_index]\n",
        "      plt.plot(x_window, y_window)\n",
        "      plt.xlabel(self.xlabel)\n",
        "      plt.ylabel(self.ylabel)\n",
        "      plt.title(self.title)\n",
        "      plt.show()\n",
        "\n",
        "      return x_window, y_window"
      ],
      "metadata": {
        "id": "XAlLq_gHNwXX"
      },
      "execution_count": 5,
      "outputs": []
    },
    {
      "cell_type": "markdown",
      "source": [
        "We initialize an instance of WindowGenerator for mass $m_1$."
      ],
      "metadata": {
        "id": "N53-hljKOPJ_"
      }
    },
    {
      "cell_type": "code",
      "source": [
        "m1_windowing = WindowGenerator(time_m1, position_m1, xlabel=\"Time (ms)\", ylabel=\"Position (cm)\", title=\"Position vs Time for $M_1$\")"
      ],
      "metadata": {
        "id": "wxXnc27ZbA35"
      },
      "execution_count": 6,
      "outputs": []
    },
    {
      "cell_type": "markdown",
      "source": [
        "Now we can plot the position of $m_1$ vs the array index to find the pre-collision and post-collision points of interest for both the masses."
      ],
      "metadata": {
        "id": "9eqQkjAVOjXT"
      }
    },
    {
      "cell_type": "code",
      "source": [
        "m1_windowing.plot_with_index()"
      ],
      "metadata": {
        "colab": {
          "base_uri": "https://localhost:8080/",
          "height": 295
        },
        "id": "yvERCySlidOi",
        "outputId": "0adb8cea-fe38-40e1-ecfa-7b630001060b"
      },
      "execution_count": 7,
      "outputs": [
        {
          "output_type": "display_data",
          "data": {
            "text/plain": [
              "<Figure size 432x288 with 1 Axes>"
            ],
            "image/png": "[encoded data removed]"
          },
          "metadata": {
            "needs_background": "light"
          }
        }
      ]
    },
    {
      "cell_type": "markdown",
      "source": [
        "We can then select our time window. We choose to ignore a few points just before the collision, so we let the lower index to be 0 and the upper index to be 75. This way we can get the points pre-collision. We now isolate the position and time array for pre-collision using the determined array index at the point of collision.  "
      ],
      "metadata": {
        "id": "e5nxcG3ikh9f"
      }
    },
    {
      "cell_type": "code",
      "source": [
        "time_m1_pre, pos_m1_pre = m1_windowing.select_window(lower_index=80, upper_index=128)"
      ],
      "metadata": {
        "colab": {
          "base_uri": "https://localhost:8080/",
          "height": 297
        },
        "id": "wUAroRdHb4FW",
        "outputId": "4404b82a-d909-4ca3-fe5a-35d11f84352d"
      },
      "execution_count": 8,
      "outputs": [
        {
          "output_type": "display_data",
          "data": {
            "text/plain": [
              "<Figure size 432x288 with 1 Axes>"
            ],
            "image/png": "[encoded data removed]"
          },
          "metadata": {
            "needs_background": "light"
          }
        }
      ]
    },
    {
      "cell_type": "markdown",
      "source": [
        "We repeat the same process for the post-collision data."
      ],
      "metadata": {
        "id": "qfp17Jg1r8el"
      }
    },
    {
      "cell_type": "code",
      "source": [
        "time_m1_post, pos_m1_post = m1_windowing.select_window(lower_index=128, upper_index=165)"
      ],
      "metadata": {
        "colab": {
          "base_uri": "https://localhost:8080/",
          "height": 297
        },
        "id": "qVNc8jo_vgho",
        "outputId": "3f1c13dd-2f80-4e29-a040-7743dec2d23e"
      },
      "execution_count": 9,
      "outputs": [
        {
          "output_type": "display_data",
          "data": {
            "text/plain": [
              "<Figure size 432x288 with 1 Axes>"
            ],
            "image/png": "[encoded data removed]"
          },
          "metadata": {
            "needs_background": "light"
          }
        }
      ]
    },
    {
      "cell_type": "markdown",
      "source": [
        "Use np.polyfit() of degree 1 to find the velocity pre and post collision. Find the error in this velocity from the covariance matrix."
      ],
      "metadata": {
        "id": "CMuhrlbvv3p0"
      }
    },
    {
      "cell_type": "code",
      "source": [
        "coeff_linear_pre_m1, cov_pre_m1 = np.polyfit(time_m1_pre, pos_m1_pre,1,cov=True)\n",
        "\n",
        "# The slope of this curve is the velocity pre-collision\n",
        "u1 = coeff_linear_pre_m1[0]\n",
        "\n",
        "# The error in velocity is found from cov_pre\n",
        "delta_u1 = np.sqrt(cov_pre_m1[0,0])\n",
        "\n",
        "# Repeat the process to find the velocity and its error post-collision\n",
        "# You can call the velocity v1 and its error as delta_v1\n",
        "coeff_linear_post_m1, cov_post_m1 = np.polyfit(time_m1_post, pos_m1_post,1,cov=True)\n",
        "\n",
        "# The slope of this curve is the velocity pre-collision\n",
        "v1 = coeff_linear_post_m1[0]\n",
        "\n",
        "# The error in velocity is found from cov_pre\n",
        "delta_v1 = np.sqrt(cov_post_m1[0,0])\n",
        "\n",
        "\n",
        "\n",
        "\n"
      ],
      "metadata": {
        "id": "DOVGqe-Dv3z9"
      },
      "execution_count": 10,
      "outputs": []
    },
    {
      "cell_type": "markdown",
      "source": [
        "We now have 4 important values: \n",
        "\n",
        "i) velocity of $m_1$ pre-collision : mean $u_1$ error $\\delta u_1$\n",
        "\n",
        "ii) velocity of $m_1$ post-collision : mean $v_1$ error $\\delta v_1$"
      ],
      "metadata": {
        "id": "Y9r8sv1tRtug"
      }
    },
    {
      "cell_type": "markdown",
      "source": [
        "We still need to find $u_2$, $\\delta u_2$, $v_2$ and $\\delta v_2$. We do this by repeating the process we did for u1 and v1."
      ],
      "metadata": {
        "id": "sRVG6gu3xVTi"
      }
    },
    {
      "cell_type": "code",
      "source": [
        "# initialize an instance of WindowGenerator for m2\n",
        "m2_windowing = WindowGenerator(time_m2, position_m2, xlabel=\"Time (ms)\", ylabel=\"Position (cm)\", title=\"Position vs Time for $M_2$\")"
      ],
      "metadata": {
        "id": "96T-zA0RyLlk"
      },
      "execution_count": 11,
      "outputs": []
    },
    {
      "cell_type": "code",
      "source": [
        "m2_windowing.plot_with_index()"
      ],
      "metadata": {
        "colab": {
          "base_uri": "https://localhost:8080/",
          "height": 295
        },
        "id": "0NjArRrfy2eP",
        "outputId": "52412a3b-f09e-483a-f842-cb7525add960"
      },
      "execution_count": 12,
      "outputs": [
        {
          "output_type": "display_data",
          "data": {
            "text/plain": [
              "<Figure size 432x288 with 1 Axes>"
            ],
            "image/png": "[encoded data removed]"
          },
          "metadata": {
            "needs_background": "light"
          }
        }
      ]
    },
    {
      "cell_type": "code",
      "source": [
        "time_m2_pre, pos_m2_pre = m2_windowing.select_window(70, 108)\n",
        "\n",
        "# Replace the ? with the start and end index of the post-collision data\n",
        "time_m2_post, pos_m2_post = m2_windowing.select_window(112, 185)\n",
        "\n",
        "# The indices for the time are going to be same as that of the position\n"
      ],
      "metadata": {
        "colab": {
          "base_uri": "https://localhost:8080/",
          "height": 577
        },
        "id": "aI05_ZDLzAtI",
        "outputId": "8afb7efc-5c18-40a9-d871-00fc42b71dec"
      },
      "execution_count": 13,
      "outputs": [
        {
          "output_type": "display_data",
          "data": {
            "text/plain": [
              "<Figure size 432x288 with 1 Axes>"
            ],
            "image/png": "[encoded data removed]"
          },
          "metadata": {
            "needs_background": "light"
          }
        },
        {
          "output_type": "display_data",
          "data": {
            "text/plain": [
              "<Figure size 432x288 with 1 Axes>"
            ],
            "image/png": "[encoded data removed]"
          },
          "metadata": {
            "needs_background": "light"
          }
        }
      ]
    },
    {
      "cell_type": "code",
      "source": [
        "# Find u2, v2 and associated errors using polyfit\n",
        "coeff_linear_pre_m2, cov_pre_m2 = np.polyfit(time_m2_pre, pos_m2_pre,1,cov=True)\n",
        "\n",
        "# The slope of this curve is the velocity pre-collision\n",
        "u2 = coeff_linear_pre_m2[0]\n",
        "\n",
        "# The error in velocity is found from cov_pre\n",
        "delta_u2 = np.sqrt(cov_pre_m2[0,0])\n",
        "\n",
        "# Repeat the process to find the velocity and its error post-collision\n",
        "# You can call the velocity v1 and its error as delta_v1\n",
        "coeff_linear_post_m2, cov_post_m2 = np.polyfit(time_m2_post, pos_m2_post,1,cov=True)\n",
        "\n",
        "# The slope of this curve is the velocity pre-collision\n",
        "v2 = coeff_linear_post_m2[0]\n",
        "\n",
        "# The error in velocity is found from cov_pre\n",
        "delta_v2 = np.sqrt(cov_post_m2[0,0])"
      ],
      "metadata": {
        "id": "ZAFFSHuPxtKV"
      },
      "execution_count": 14,
      "outputs": []
    },
    {
      "cell_type": "markdown",
      "source": [
        "Now we know 8 important values.\n",
        "\n",
        "i) velocity of $m_1$ pre-collision : mean $u_1$ error $\\delta u_1$\n",
        "\n",
        "ii) velocity of $m_1$ post-collision : mean $v_1$ error $\\delta v_1$\n",
        "\n",
        "iii) velocity of $m_2$ pre-collision : mean $u_2$ error $\\delta u_2$\n",
        "\n",
        "iv) velocity of $m_2$ post-collision : mean $v_2$ error $\\delta v_2$"
      ],
      "metadata": {
        "id": "4iiG0A_Kx-ST"
      }
    },
    {
      "cell_type": "markdown",
      "source": [
        "Create variables for storing the mass of $m_1$ and $m_2$ as well as the associated $\\delta m_1$ and $\\delta m_2$.\n",
        "\n",
        "$\\delta m_1$ and $\\delta m_2$ are the minimum measurements on the scale."
      ],
      "metadata": {
        "id": "6Zdi609WTHRA"
      }
    },
    {
      "cell_type": "code",
      "source": [
        "m1 = 436\n",
        "\n",
        "m2 = 420\n",
        "\n",
        "delta_m1 = 1\n",
        "\n",
        "delta_m2 = 1\n"
      ],
      "metadata": {
        "id": "hNHmGMMxTGzg"
      },
      "execution_count": 15,
      "outputs": []
    },
    {
      "cell_type": "markdown",
      "source": [
        "We now define the functions to find momentum, error in momentum, energy and error in energy."
      ],
      "metadata": {
        "id": "iFAnktgN-we9"
      }
    },
    {
      "cell_type": "code",
      "source": [
        "# define momentum function\n",
        "def momentum_function(m, v):\n",
        "  # Indent starting here\n",
        "  # Calculate p\n",
        "  p = m * v\n",
        "  # Return p\n",
        "  return p"
      ],
      "metadata": {
        "id": "h3mlz8-ST5YP"
      },
      "execution_count": 16,
      "outputs": []
    },
    {
      "cell_type": "code",
      "source": [
        "# define momentum error function\n",
        "def momentum_uncertainty(m, v, delta_m, delta_v):\n",
        "  # Indent starting here\n",
        "  # Calculate delta_p\n",
        "  delta_p = m * v * np.sqrt((delta_m / m) ** 2 + (delta_v / v) ** 2)\n",
        "# Return delta_p\n",
        "  return delta_p"
      ],
      "metadata": {
        "id": "dpbQEgvvT_yE"
      },
      "execution_count": 17,
      "outputs": []
    },
    {
      "cell_type": "code",
      "source": [
        "# define energy function\n",
        "def kinetic_energy_function(m, v):\n",
        "  # Indent starting here\n",
        "  # Calculate K\n",
        "  K = 0.5 * m * (v ** 2)\n",
        "  # Return K\n",
        "  return K"
      ],
      "metadata": {
        "id": "8r3GVei4T_50"
      },
      "execution_count": 18,
      "outputs": []
    },
    {
      "cell_type": "code",
      "source": [
        "# define energy error function\n",
        "def energy_uncertainty(m, v, delta_m, delta_v):\n",
        "# Indent starting here\n",
        "# Calculate delta_K\n",
        "  delta_K = (0.5 * m * (v ** 2)) * np.sqrt((delta_m/m) ** 2 + (2 * delta_v / v) ** 2)\n",
        "\n",
        "\n",
        "# Return delta_K\n",
        "  return delta_K"
      ],
      "metadata": {
        "id": "hjR7XHe1UABT"
      },
      "execution_count": 19,
      "outputs": []
    },
    {
      "cell_type": "markdown",
      "source": [
        "Now, call the functions on the values that you have. Remember that the order of inputs into the function call must be in exactly the same order as the function definition. "
      ],
      "metadata": {
        "id": "RqjnHNO6UAlK"
      }
    },
    {
      "cell_type": "markdown",
      "source": [
        "# Momentum and errors"
      ],
      "metadata": {
        "id": "nXCtw7uoUjab"
      }
    },
    {
      "cell_type": "code",
      "source": [
        "# Convert from cm/ms to m/s\n",
        "u1 = u1 * 10\n",
        "v1 = v1 * 10\n",
        "u2 = u2 * 10\n",
        "v2 = v2 * 10\n",
        "delta_u1 = delta_u1 * 10\n",
        "delta_v1 = delta_v1 * 10\n",
        "delta_u2 = delta_u2 * 10\n",
        "delta_v2 = delta_v2 * 10\n",
        "# Convert from g to kg\n",
        "m1 = m1/1000\n",
        "m2 = m2/1000\n",
        "delta_m1 = delta_m1/1000\n",
        "delta_m2 = delta_m2/1000"
      ],
      "metadata": {
        "id": "Flhr2WZhyYm4"
      },
      "execution_count": 20,
      "outputs": []
    },
    {
      "cell_type": "code",
      "source": [
        "print(\"M1's initial velocity is\", u1, \"m/s with an uncertainty of\", delta_u1, \"m/s.\")\n",
        "print(\"M1's final velocity is\", v1, \"m/s with an uncertainty of\", delta_v1, \"m/s.\")\n",
        "print(\"M2's initial velocity is\", u2, \"m/s with an uncertainty of\", delta_u2, \"m/s.\")\n",
        "print(\"M2's final velocity is\", v2, \"m/s with an uncertainty of\", delta_v2, \"m/s.\")"
      ],
      "metadata": {
        "colab": {
          "base_uri": "https://localhost:8080/"
        },
        "id": "mCVvClNvJ5Op",
        "outputId": "0450228c-d106-43ff-bf41-5b30769da8c4"
      },
      "execution_count": 21,
      "outputs": [
        {
          "output_type": "stream",
          "name": "stdout",
          "text": [
            "M1's initial velocity is 0.1299645938275466 m/s with an uncertainty of 0.0014834317442216107 m/s.\n",
            "M1's final velocity is -0.1796361777901787 m/s with an uncertainty of 0.002146430705357423 m/s.\n",
            "M2's initial velocity is 0.1772908160200562 m/s with an uncertainty of 0.0010135355618102323 m/s.\n",
            "M2's final velocity is -0.11016788963634988 m/s with an uncertainty of 0.000423952660139725 m/s.\n"
          ]
        }
      ]
    },
    {
      "cell_type": "code",
      "source": [
        "# m1 initial momentum with error\n",
        "p1i = momentum_function(m1, np.abs(u1))\n",
        "delta_p1i = momentum_uncertainty(m1, abs(u1), delta_m1, np.abs(delta_u1))\n",
        "print(\"M1's initial momentum is\", p1i, \"kg m/s\", \"with an error of\", delta_p1i, \"kg m/s\")"
      ],
      "metadata": {
        "id": "IhPkpfIvUYJl",
        "colab": {
          "base_uri": "https://localhost:8080/"
        },
        "outputId": "068fac2d-00cc-47be-aead-09cce6b65493"
      },
      "execution_count": 22,
      "outputs": [
        {
          "output_type": "stream",
          "name": "stdout",
          "text": [
            "M1's initial momentum is 0.05666456290881032 kg m/s with an error of 0.0006597047073494374 kg m/s\n"
          ]
        }
      ]
    },
    {
      "cell_type": "code",
      "source": [
        "# m2 initial momentum with error\n",
        "p2i = momentum_function(m2, u2)\n",
        "delta_p2i = momentum_uncertainty(m2, u2, delta_m2, delta_u2)\n",
        "print(\"M2's initial momentum is\", p2i, \"kg m/s\", \"with an error of\", delta_p2i, \"kg m/s\")"
      ],
      "metadata": {
        "id": "fIGW8hFuUYMF",
        "colab": {
          "base_uri": "https://localhost:8080/"
        },
        "outputId": "4ae3343e-aba3-4507-fb86-0b2755071de5"
      },
      "execution_count": 23,
      "outputs": [
        {
          "output_type": "stream",
          "name": "stdout",
          "text": [
            "M2's initial momentum is 0.0744621427284236 kg m/s with an error of 0.0004611287218863948 kg m/s\n"
          ]
        }
      ]
    },
    {
      "cell_type": "code",
      "source": [
        "# m1 final momentum with error\n",
        "p1f = momentum_function(m1, np.abs(v1))\n",
        "delta_p1f = momentum_uncertainty(m1, np.abs(v1), delta_m1, np.abs(delta_v1))\n",
        "print(\"M1's final momentum is\", p1f, \"kg m/s\", \"with an error of\", delta_p1f, \"kg m/s\")"
      ],
      "metadata": {
        "id": "6pkhxkqeUYOy",
        "colab": {
          "base_uri": "https://localhost:8080/"
        },
        "outputId": "c16aae84-51e3-42e5-d1dc-cc285089fad7"
      },
      "execution_count": 24,
      "outputs": [
        {
          "output_type": "stream",
          "name": "stdout",
          "text": [
            "M1's final momentum is 0.07832137351651791 kg m/s with an error of 0.0009529285130798031 kg m/s\n"
          ]
        }
      ]
    },
    {
      "cell_type": "code",
      "source": [
        "# m2 final momentum with error\n",
        "p2f = momentum_function(m2, np.abs(v2))\n",
        "delta_p2f = momentum_uncertainty(m2, np.abs(v2), delta_m2, np.abs(delta_v2))\n",
        "print(\"M2's final momentum is\", p2f, \"kg m/s\", \"with an error of\", delta_p2f, \"kg m/s\")"
      ],
      "metadata": {
        "colab": {
          "base_uri": "https://localhost:8080/"
        },
        "id": "S-REqkGuGDLi",
        "outputId": "35ab698b-5055-465c-9d3b-bb5076a08786"
      },
      "execution_count": 25,
      "outputs": [
        {
          "output_type": "stream",
          "name": "stdout",
          "text": [
            "M2's final momentum is 0.04627051364726695 kg m/s with an error of 0.0002093856949867957 kg m/s\n"
          ]
        }
      ]
    },
    {
      "cell_type": "markdown",
      "source": [
        "System momentum loss :\n",
        "\n",
        "If the initial momentum and error of $m_1$ are $p_{1i}$ and $\\delta p_{1i}$, initial momentum with error of $m_2$ are $p_{2i}$ and $\\delta p_{2i}$, final momentum and error of $m_1$ are $p_{1f}$ and $\\delta p_{1f}$, final momentum with error of $m_2$ are $p_{2f}$ and $\\delta p_{2f}$ then,\n",
        "\n",
        "The system momentum loss is $(p_{1i} + p_{2i}) - (p_{1f} + p_{2f})$\n",
        "\n",
        "The error in system momentum loss is $ \\sqrt {({\\delta p_{1i}})^2 + ({\\delta p_{2i}})^2 + ({\\delta p_{1f}})^2 +({\\delta p_{2f}})^2} $"
      ],
      "metadata": {
        "id": "0dIyUSTUUwZK"
      }
    },
    {
      "cell_type": "code",
      "source": [
        "# System momentum loss\n",
        "system_momentum_loss = (p1i+p2i - p1f - p2f)\n",
        "print(\"The system momentum loss is\", system_momentum_loss)\n",
        "# Error in system momentum loss\n",
        "error_system_momentum_loss = np.sqrt(delta_p1i**2 + delta_p2i**2 + delta_p1f**2 + delta_p2f**2)\n",
        "print(\"The error in system momentum loss is\", error_system_momentum_loss)"
      ],
      "metadata": {
        "id": "vIE3yjeqUqaK",
        "colab": {
          "base_uri": "https://localhost:8080/"
        },
        "outputId": "6a8f3cda-f656-4c55-ab10-cf5ef595cf77"
      },
      "execution_count": 26,
      "outputs": [
        {
          "output_type": "stream",
          "name": "stdout",
          "text": [
            "The system momentum loss is 0.0065348184734490555\n",
            "The error in system momentum loss is 0.001264818215931908\n"
          ]
        }
      ]
    },
    {
      "cell_type": "markdown",
      "source": [
        "# Energy and errors"
      ],
      "metadata": {
        "id": "l5WhrOXiUnCw"
      }
    },
    {
      "cell_type": "markdown",
      "source": [
        "Follow the procedure outlined in the momentum section and find the energies and associated errors.\n",
        "\n",
        "Note that $\\delta K = K*\\sqrt{\\left(\\frac{\\delta m}{m}\\right)^2 + \\left(\\frac{2 \\delta v}{v}\\right)^2}$"
      ],
      "metadata": {
        "id": "lAhLmEC-XJEt"
      }
    },
    {
      "cell_type": "code",
      "metadata": {
        "id": "FMHleaxK0119",
        "colab": {
          "base_uri": "https://localhost:8080/"
        },
        "outputId": "b667a27b-f8ee-4cd4-f832-b330305108c2"
      },
      "source": [
        "# m1 initial energy with error\n",
        "E1i = kinetic_energy_function(m1, u1)\n",
        "delta_E1i = energy_uncertainty(m1, u1, delta_m1, delta_u1)\n",
        "print(\"M1's initial energy is\", E1i, \"J\", \"with an error of\", delta_E1i, \"J\")"
      ],
      "execution_count": 27,
      "outputs": [
        {
          "output_type": "stream",
          "name": "stdout",
          "text": [
            "M1's initial energy is 0.003682193451429498 J with an error of 8.448120514933488e-05 J\n"
          ]
        }
      ]
    },
    {
      "cell_type": "markdown",
      "source": [
        "Find the system energy loss and its associated error."
      ],
      "metadata": {
        "id": "CAQVaM9LXTpW"
      }
    },
    {
      "cell_type": "code",
      "source": [
        "# m2 initial energy with error\n",
        "E2i = kinetic_energy_function(m2, u2)\n",
        "delta_E2i = energy_uncertainty(m2, u2, delta_m2, delta_u2)\n",
        "print(\"M2's initial energy is\", E2i, \"J\", \"with an error of\", delta_E2i, \"J\")"
      ],
      "metadata": {
        "id": "liE2Vx3aXbi0",
        "colab": {
          "base_uri": "https://localhost:8080/"
        },
        "outputId": "50f28da3-82db-4d24-b572-447d47430c92"
      },
      "execution_count": 28,
      "outputs": [
        {
          "output_type": "stream",
          "name": "stdout",
          "text": [
            "M2's initial energy is 0.006600727023462057 J with an error of 7.708903008265622e-05 J\n"
          ]
        }
      ]
    },
    {
      "cell_type": "code",
      "source": [
        "# m1 final energy with error\n",
        "E1f = kinetic_energy_function(m1, v1)\n",
        "delta_E1f = energy_uncertainty(m1, v1, delta_m1, delta_v1)\n",
        "print(\"M1's final energy is\", E1f, \"J\", \"with an error of\", delta_E1f, \"J\")"
      ],
      "metadata": {
        "colab": {
          "base_uri": "https://localhost:8080/"
        },
        "id": "otWkf7nIIFYR",
        "outputId": "ebd98b0a-85bd-43eb-b2bc-896da6ee1bfb"
      },
      "execution_count": 29,
      "outputs": [
        {
          "output_type": "stream",
          "name": "stdout",
          "text": [
            "M1's final energy is 0.007034676088892103 J with an error of 0.00016888388839659372 J\n"
          ]
        }
      ]
    },
    {
      "cell_type": "code",
      "source": [
        "# m2 final energy with error\n",
        "E2f = kinetic_energy_function(m2, v2)\n",
        "delta_E2f = energy_uncertainty(m2, v2, delta_m2, delta_v2)\n",
        "print(\"M2's final energy is\", E2f, \"J\", \"with an error of\", delta_E2f, \"J\")"
      ],
      "metadata": {
        "colab": {
          "base_uri": "https://localhost:8080/"
        },
        "id": "R0xpv814GQuC",
        "outputId": "c01429ac-e580-4229-c670-76835d236de3"
      },
      "execution_count": 30,
      "outputs": [
        {
          "output_type": "stream",
          "name": "stdout",
          "text": [
            "M2's final energy is 0.0025487624204546633 J with an error of 2.0533724301893915e-05 J\n"
          ]
        }
      ]
    },
    {
      "cell_type": "code",
      "source": [
        "# System momentum loss\n",
        "system_energy_loss = (E1i+E2i - E1f - E2f)\n",
        "print(\"The energy loss is\", system_energy_loss)\n",
        "# Error in system momentum loss\n",
        "error_system_energy_loss = np.sqrt(delta_E1i**2 + delta_E2i**2 + delta_E1f**2 + delta_E2f**2)\n",
        "print(\"The error in system energy loss is\", error_system_energy_loss)"
      ],
      "metadata": {
        "colab": {
          "base_uri": "https://localhost:8080/"
        },
        "id": "atxKYMyIIr8x",
        "outputId": "96edaa1e-67bb-4025-ea5b-f44d4d620a8e"
      },
      "execution_count": 31,
      "outputs": [
        {
          "output_type": "stream",
          "name": "stdout",
          "text": [
            "The energy loss is 0.0006994819655447878\n",
            "The error in system energy loss is 0.00020499559550445954\n"
          ]
        }
      ]
    }
  ]
}